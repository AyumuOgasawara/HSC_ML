{
 "cells": [
  {
   "cell_type": "markdown",
   "id": "35a7f2d0-8da4-4dd8-8baa-44687e3036fe",
   "metadata": {},
   "source": [
    "## このファイルはHSCデータベースにあるHSC-SSP External Catalogs の外部の様々なプロジェクトで撮られた分光データを使って精度が上がるかを検証するために使ったデータ\n",
    "## ＊結果として精度は上がらなかった"
   ]
  },
  {
   "cell_type": "code",
   "execution_count": 1,
   "id": "67afbd1b-d326-4200-9238-44618196af81",
   "metadata": {},
   "outputs": [],
   "source": [
    "# Python : 3.6.13\n",
    "# Numpy: 1.17.0\n",
    "# pandas: 0.25.0\n",
    "# matplotlib: 3.1.1\n",
    "# scipy: 1.3.1\n",
    "# scikit-learn: 0.20.0\n",
    "\n",
    "import os, sys, glob\n",
    "import pandas as pd\n",
    "import numpy as np\n",
    "import scipy.stats as stats\n",
    "import matplotlib as mpl\n",
    "#mpl.use('TKAgg',warn=False, force=True) #set MPL backend.\n",
    "import matplotlib.pyplot as plt\n",
    "import matplotlib.ticker as ticker\n",
    "import pickle #save/load python data objects (dictionaries/arrays)\n",
    "import time\n",
    "import itertools\n",
    "from textwrap import wrap #Long figure titles\n",
    "import multiprocessing\n",
    "#from memory_profiler import profile #profile memory\n",
    "from astropy.coordinates import SkyCoord\n",
    "import astropy.units as u\n",
    "import re\n",
    "from tqdm import tqdm\n",
    "\n",
    "#ML libraries\n",
    "from sklearn.model_selection import train_test_split\n",
    "from sklearn.model_selection import learning_curve\n",
    "from sklearn.model_selection import GridSearchCV\n",
    "from sklearn.model_selection import cross_validate\n",
    "from sklearn.feature_selection import SelectFromModel\n",
    "from sklearn.metrics import classification_report, confusion_matrix\n",
    "from sklearn.metrics import accuracy_score, f1_score, precision_score, recall_score\n",
    "from sklearn.ensemble import RandomForestClassifier\n",
    "from sklearn.pipeline import Pipeline\n",
    "from sklearn import preprocessing\n",
    "from sklearn import manifold\n",
    "from sklearn.cluster import KMeans\n",
    "from sklearn.decomposition import PCA"
   ]
  },
  {
   "cell_type": "markdown",
   "id": "107feed1-2091-4f44-82cf-7edd7acf0f4a",
   "metadata": {},
   "source": [
    "## 使用する関数"
   ]
  },
  {
   "cell_type": "code",
   "execution_count": 2,
   "id": "7b26808a-f17f-4440-b3ed-92d87af2bfcd",
   "metadata": {},
   "outputs": [],
   "source": [
    "# ファイルのLoading/saving\n",
    "def save_obj(obj, name ):\n",
    "    with open(name + '.pkl', 'wb') as f:\n",
    "        pickle.dump(obj, f, pickle.HIGHEST_PROTOCOL)\n",
    "\n",
    "def load_obj(name ):\n",
    "# デバック用\n",
    "    with open(name + '.pkl', 'rb') as f:\n",
    "# ファイル実行用\n",
    "    # with open(name + '.pkl', 'rb') as f:\n",
    "        return pickle.load(f)\n",
    "#------------------------------------------------------------------------------------------------------------ "
   ]
  },
  {
   "cell_type": "code",
   "execution_count": 2,
   "id": "7055d442-be0c-429d-acf1-fc28ccb4d3ec",
   "metadata": {},
   "outputs": [],
   "source": [
    "# # spec_cross_matching内のファイルの説明 \n",
    "# # HSC_spec.csv.gz : external_catalog.specz_s21a_v1から外部の様々なプロジェクトで撮られた分光データ\n",
    "# # spec_redshift0.fits : HSC_spec.csv.gz  の天体から redshift0 のものを取得し、綺麗にしたもの\n",
    "# # spec_redshift0_matched.fits : spec_redshift0.fits を HSC のcorros matchingシステムを使いマッチングさせたもの\n",
    "# # closest_obj_df.pkl : spec_redshift0_matched.fits で重複マッチンングしたものの距離が一番近いものを取得。292天体あり。db_id = HSCのobjects_id\n",
    "# # redshift0.csv.gz  : closest_obj_df.pklで得られた天体のdb_idを使い、HSCデータの必要なカラムを取得。3天体\n",
    "# HSC_path = 'redshift0.csv.gz'\n",
    "# df_redshift0 = pd.read_csv(\n",
    "#     HSC_path, compression=\"gzip\", header=0, sep=\",\", quotechar='\"'\n",
    "# )"
   ]
  },
  {
   "cell_type": "code",
   "execution_count": 4,
   "id": "6860efb7-4c80-4f74-99b0-7b143e281bde",
   "metadata": {},
   "outputs": [],
   "source": [
    "# HSC_spec.csv.gz : external_catalog.specz_s21a_v1から外部の様々なプロジェクトで撮られた分光データ : 4,564,425 天体\n",
    "name = 'HSC_spec.csv.gz'\n",
    "path = 'spec_cross_matching/' + name\n",
    "HSC_spec_df = pd.read_csv(\n",
    "    path, compression=\"gzip\", header=0, sep=\",\", quotechar='\"'\n",
    ")"
   ]
  },
  {
   "cell_type": "code",
   "execution_count": 9,
   "id": "c5f0bbe3-fb3e-4581-bf8e-f5e764cd9b5c",
   "metadata": {},
   "outputs": [],
   "source": [
    "# spec_redshift0.fits : HSC_spec.csv.gz  の天体から redshift0 のものを取得し、綺麗にしたもの : 2015天体\n",
    "name = 'spec_redshift0.fits'\n",
    "path = 'spec_cross_matching/' + name\n",
    "ext_number = 1 \n",
    "\n",
    "spec_redshift0 = fits.getdata(path, ext=ext_number)\n",
    "spec_redshift0_fits = spec_redshift0.tolist()"
   ]
  },
  {
   "cell_type": "code",
   "execution_count": 13,
   "id": "c0424810-fae3-4da7-9294-184fc7e0da08",
   "metadata": {},
   "outputs": [],
   "source": [
    "# spec_redshift0_matched.fits : spec_redshift0.fits を HSC のcorros matchingシステムを使いマッチングさせたもの :805天体\n",
    "name = 'spec_redshift0_matched.fits'\n",
    "path = 'spec_cross_matching/' + name\n",
    "ext_number = 1 \n",
    "\n",
    "spec_redshift0_matched = fits.getdata(path, ext=ext_number)\n",
    "spec_redshift0_matched_fits = spec_redshift0.tolist()"
   ]
  },
  {
   "cell_type": "code",
   "execution_count": 16,
   "id": "6c58801b-eaba-436e-b188-d01428279bdc",
   "metadata": {},
   "outputs": [],
   "source": [
    "# closest_obj_df.pkl : spec_redshift0_matched.fits で重複マッチンングしたものの距離が一番近いものを取得。db_id = HSCのobjects_id : 292天体\n",
    "name = 'closest_obj_df'\n",
    "path = 'spec_cross_matching/' + name\n",
    "closest_obj_df = load_obj(path)"
   ]
  },
  {
   "cell_type": "code",
   "execution_count": 19,
   "id": "d193d3ac-8dfa-445a-99a1-7148b7a8e731",
   "metadata": {},
   "outputs": [],
   "source": [
    "# redshift0.csv.gz  : closest_obj_df.pklで得られた天体のdb_idを使い、HSCデータの必要なカラムを取得。3天体\n",
    "name = 'redshift0.csv.gz'\n",
    "path = 'spec_cross_matching/' + name\n",
    "redshift0_df = pd.read_csv(\n",
    "    path, compression=\"gzip\", header=0, sep=\",\", quotechar='\"'\n",
    ")"
   ]
  }
 ],
 "metadata": {
  "kernelspec": {
   "display_name": "Python 3 (ipykernel)",
   "language": "python",
   "name": "python3"
  },
  "language_info": {
   "codemirror_mode": {
    "name": "ipython",
    "version": 3
   },
   "file_extension": ".py",
   "mimetype": "text/x-python",
   "name": "python",
   "nbconvert_exporter": "python",
   "pygments_lexer": "ipython3",
   "version": "3.8.18"
  }
 },
 "nbformat": 4,
 "nbformat_minor": 5
}
